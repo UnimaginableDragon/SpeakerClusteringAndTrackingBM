{
  "nbformat": 4,
  "nbformat_minor": 0,
  "metadata": {
    "colab": {
      "name": "RBM_vectors_PCA_clustering.ipynb",
      "provenance": [],
      "collapsed_sections": []
    },
    "kernelspec": {
      "name": "python3",
      "display_name": "Python 3"
    },
    "accelerator": "TPU"
  },
  "cells": [
    {
      "cell_type": "code",
      "metadata": {
        "id": "2IrWLvXP_2jM",
        "colab_type": "code",
        "colab": {
          "base_uri": "https://localhost:8080/",
          "height": 54
        },
        "outputId": "69767eca-29d0-41e7-942f-d0dc6e72d250"
      },
      "source": [
        "from google.colab import drive\n",
        "drive.mount('/content/gdrive')"
      ],
      "execution_count": 13,
      "outputs": [
        {
          "output_type": "stream",
          "text": [
            "Drive already mounted at /content/gdrive; to attempt to forcibly remount, call drive.mount(\"/content/gdrive\", force_remount=True).\n"
          ],
          "name": "stdout"
        }
      ]
    },
    {
      "cell_type": "code",
      "metadata": {
        "id": "AsjkV-e2ITBs",
        "colab_type": "code",
        "colab": {
          "base_uri": "https://localhost:8080/",
          "height": 34
        },
        "outputId": "eb855812-af29-4bf3-fd39-3864e79b0416"
      },
      "source": [
        "!pip install python_speech_features"
      ],
      "execution_count": 14,
      "outputs": [
        {
          "output_type": "stream",
          "text": [
            "Requirement already satisfied: python_speech_features in /usr/local/lib/python3.6/dist-packages (0.6)\n"
          ],
          "name": "stdout"
        }
      ]
    },
    {
      "cell_type": "code",
      "metadata": {
        "id": "u24Zyq5FOcHq",
        "colab_type": "code",
        "colab": {}
      },
      "source": [
        "import tensorflow.compat.v1 as tf\n",
        "tf.disable_v2_behavior()\n",
        "from __future__ import print_function\n",
        "import sys\n",
        "import os\n",
        "import numpy as np\n"
      ],
      "execution_count": 15,
      "outputs": []
    },
    {
      "cell_type": "code",
      "metadata": {
        "id": "c_FkiE1mrS38",
        "colab_type": "code",
        "colab": {}
      },
      "source": [
        "from python_speech_features import mfcc\n",
        "from sklearn import preprocessing\n",
        "import scipy.io.wavfile as wav\n",
        "\n",
        "\n"
      ],
      "execution_count": 16,
      "outputs": []
    },
    {
      "cell_type": "code",
      "metadata": {
        "id": "q6SrhJ0ZxQiF",
        "colab_type": "code",
        "colab": {}
      },
      "source": [
        "def tf_x_init(fan_in, fan_out, dtype=np.float32):\n",
        "    k =  np.sqrt(6.0 / (fan_in + fan_out))\n",
        "    return tf.random_uniform((fan_in, fan_out), minval=-k, maxval=k, dtype=dtype)\n",
        "\n",
        "\n",
        "def sample_bernoulli(probs):\n",
        "    return tf.nn.relu(tf.sign(probs - tf.random_uniform(tf.shape(probs))))\n",
        "\n"
      ],
      "execution_count": 17,
      "outputs": []
    },
    {
      "cell_type": "code",
      "metadata": {
        "id": "2NNcGmW2yOjH",
        "colab_type": "code",
        "colab": {}
      },
      "source": [
        "\n",
        "class RBM:\n",
        "    def __init__(self,\n",
        "                 n_visible,\n",
        "                 n_hidden,\n",
        "                 learning_rate=0.01,\n",
        "                 momentum=0.95,\n",
        "                 err_function='mse',\n",
        "                 use_tqdm=False,\n",
        "                 # DEPRECATED:\n",
        "                 tqdm=None):\n",
        "        if not 0.0 <= momentum <= 1.0:\n",
        "            raise ValueError('momentum should be in range [0, 1]')\n",
        "\n",
        "       \n",
        "\n",
        "        self._use_tqdm = use_tqdm\n",
        "        self._tqdm = None\n",
        "\n",
        "        if use_tqdm or tqdm is not None:\n",
        "            from tqdm import tqdm\n",
        "            self._tqdm = tqdm\n",
        "\n",
        "        self.n_visible = n_visible\n",
        "        self.n_hidden = n_hidden\n",
        "        self.learning_rate = learning_rate\n",
        "        self.momentum = momentum\n",
        "\n",
        "        self.x = tf.placeholder(tf.float32, [None, self.n_visible])\n",
        "        self.y = tf.placeholder(tf.float32, [None, self.n_hidden])\n",
        "\n",
        "        self.w = tf.Variable(tf_x_init(self.n_visible, self.n_hidden), dtype=tf.float32)\n",
        "        self.visible_bias = tf.Variable(tf.zeros([self.n_visible]), dtype=tf.float32)\n",
        "        self.hidden_bias = tf.Variable(tf.zeros([self.n_hidden]), dtype=tf.float32)\n",
        "\n",
        "        self.delta_w = tf.Variable(tf.zeros([self.n_visible, self.n_hidden]), dtype=tf.float32)\n",
        "        self.delta_visible_bias = tf.Variable(tf.zeros([self.n_visible]), dtype=tf.float32)\n",
        "        self.delta_hidden_bias = tf.Variable(tf.zeros([self.n_hidden]), dtype=tf.float32)\n",
        "\n",
        "        self.update_weights = None\n",
        "        self.update_deltas = None\n",
        "        self.compute_hidden = None\n",
        "        self.compute_visible = None\n",
        "        self.compute_visible_from_hidden = None\n",
        "\n",
        "        self._initialize_vars()\n",
        "\n",
        "        assert self.update_weights is not None\n",
        "        assert self.update_deltas is not None\n",
        "        assert self.compute_hidden is not None\n",
        "        assert self.compute_visible is not None\n",
        "        assert self.compute_visible_from_hidden is not None\n",
        "\n",
        "        \n",
        "        self.compute_err = tf.reduce_mean(tf.square(self.x - self.compute_visible))\n",
        "\n",
        "        init = tf.global_variables_initializer()\n",
        "        self.sess = tf.Session()\n",
        "        self.sess.run(init)\n",
        "\n",
        "    def _initialize_vars(self):\n",
        "        pass\n",
        "\n",
        "    def get_err(self, batch_x):\n",
        "        return self.sess.run(self.compute_err, feed_dict={self.x: batch_x})\n",
        "\n",
        "\n",
        "\n",
        "    def partial_fit(self, batch_x):\n",
        "        self.sess.run(self.update_weights + self.update_deltas, feed_dict={self.x: batch_x})\n",
        "\n",
        "    def fit(self,\n",
        "            data_x,\n",
        "            n_epoches=10,\n",
        "            batch_size=10,\n",
        "            shuffle=True,\n",
        "            verbose=True):\n",
        "        assert n_epoches > 0\n",
        "\n",
        "        n_data = data_x.shape[0]\n",
        "\n",
        "        if batch_size > 0:\n",
        "            n_batches = n_data // batch_size + (0 if n_data % batch_size == 0 else 1)\n",
        "        else:\n",
        "            n_batches = 1\n",
        "\n",
        "        if shuffle:\n",
        "            data_x_cpy = data_x.copy()\n",
        "            inds = np.arange(n_data)\n",
        "        else:\n",
        "            data_x_cpy = data_x\n",
        "\n",
        "        errs = []\n",
        "\n",
        "        for e in range(n_epoches):\n",
        "            if verbose and not self._use_tqdm:\n",
        "                print('Epoch: {:d}'.format(e))\n",
        "\n",
        "            epoch_errs = np.zeros((n_batches,))\n",
        "            epoch_errs_ptr = 0\n",
        "\n",
        "            if shuffle:\n",
        "                np.random.shuffle(inds)\n",
        "                data_x_cpy = data_x_cpy[inds]\n",
        "\n",
        "            r_batches = range(n_batches)\n",
        "\n",
        "            if verbose and self._use_tqdm:\n",
        "                r_batches = self._tqdm(r_batches, desc='Epoch: {:d}'.format(e), ascii=True, file=sys.stdout)\n",
        "\n",
        "            for b in r_batches:\n",
        "                batch_x = data_x_cpy[b * batch_size:(b + 1) * batch_size]\n",
        "                self.partial_fit(batch_x)\n",
        "                batch_err = self.get_err(batch_x)\n",
        "                epoch_errs[epoch_errs_ptr] = batch_err\n",
        "                epoch_errs_ptr += 1\n",
        "\n",
        "            if verbose:\n",
        "                err_mean = epoch_errs.mean()\n",
        "                if self._use_tqdm:\n",
        "                    self._tqdm.write('Train error: {:.4f}'.format(err_mean))\n",
        "                    self._tqdm.write('')\n",
        "                else:\n",
        "                    print('Train error: {:.4f}'.format(err_mean))\n",
        "                    print('')\n",
        "                sys.stdout.flush()\n",
        "\n",
        "            errs = np.hstack([errs, epoch_errs])\n",
        "\n",
        "        return errs\n",
        "\n",
        "    def get_weights(self):\n",
        "        return self.sess.run(self.w),\\\n",
        "            self.sess.run(self.visible_bias),\\\n",
        "            self.sess.run(self.hidden_bias)\n",
        "\n",
        "    def save_weights(self, filename, name):\n",
        "        saver = tf.train.Saver({name + '_w': self.w,\n",
        "                                name + '_v': self.visible_bias,\n",
        "                                name + '_h': self.hidden_bias})\n",
        "        return saver.save(self.sess, filename)\n",
        "\n",
        "    def set_weights(self, w, visible_bias, hidden_bias):\n",
        "        self.sess.run(self.w.assign(w))\n",
        "        self.sess.run(self.visible_bias.assign(visible_bias))\n",
        "        self.sess.run(self.hidden_bias.assign(hidden_bias))\n",
        "\n",
        "    def load_weights(self, filename, name):\n",
        "        saver = tf.train.Saver({name + '_w': self.w,\n",
        "                                name + '_v': self.visible_bias,\n",
        "                                name + '_h': self.hidden_bias})\n",
        "        saver.restore(self.sess, filename)\n"
      ],
      "execution_count": 18,
      "outputs": []
    },
    {
      "cell_type": "code",
      "metadata": {
        "id": "m2aXzje7yWU9",
        "colab_type": "code",
        "colab": {}
      },
      "source": [
        "\n",
        "class GBRBM(RBM):\n",
        "    def __init__(self, n_visible, n_hidden, **kwargs):\n",
        "       \n",
        "\n",
        "        RBM.__init__(self, n_visible, n_hidden, **kwargs)\n",
        "\n",
        "    def _initialize_vars(self):\n",
        "        hidden_p = tf.nn.sigmoid(tf.matmul(self.x, self.w) + self.hidden_bias)\n",
        "        visible_recon_p = tf.matmul(sample_bernoulli(hidden_p), tf.transpose(self.w)) + self.visible_bias\n",
        "\n",
        "        \n",
        "\n",
        "        hidden_recon_p = tf.nn.sigmoid(tf.matmul(visible_recon_p, self.w) + self.hidden_bias)\n",
        "\n",
        "        positive_grad = tf.matmul(tf.transpose(self.x), hidden_p)\n",
        "        negative_grad = tf.matmul(tf.transpose(visible_recon_p), hidden_recon_p)\n",
        "\n",
        "        def f(x_old, x_new):\n",
        "            return self.momentum * x_old +\\\n",
        "                   self.learning_rate * x_new * (1 - self.momentum) / tf.to_float(tf.shape(x_new)[0])\n",
        "\n",
        "        delta_w_new = f(self.delta_w, positive_grad - negative_grad)\n",
        "        delta_visible_bias_new = f(self.delta_visible_bias, tf.reduce_mean(self.x - visible_recon_p, 0))\n",
        "        delta_hidden_bias_new = f(self.delta_hidden_bias, tf.reduce_mean(hidden_p - hidden_recon_p, 0))\n",
        "\n",
        "        update_delta_w = self.delta_w.assign(delta_w_new)\n",
        "        update_delta_visible_bias = self.delta_visible_bias.assign(delta_visible_bias_new)\n",
        "        update_delta_hidden_bias = self.delta_hidden_bias.assign(delta_hidden_bias_new)\n",
        "\n",
        "        update_w = self.w.assign(self.w + delta_w_new)\n",
        "        update_visible_bias = self.visible_bias.assign(self.visible_bias + delta_visible_bias_new)\n",
        "        update_hidden_bias = self.hidden_bias.assign(self.hidden_bias + delta_hidden_bias_new)\n",
        "\n",
        "        self.update_deltas = [update_delta_w, update_delta_visible_bias, update_delta_hidden_bias]\n",
        "        self.update_weights = [update_w, update_visible_bias, update_hidden_bias]\n",
        "\n",
        "        self.compute_hidden = tf.nn.sigmoid(tf.matmul(self.x, self.w) + self.hidden_bias)\n",
        "        self.compute_visible = tf.matmul(self.compute_hidden, tf.transpose(self.w)) + self.visible_bias\n",
        "        self.compute_visible_from_hidden = tf.matmul(self.y, tf.transpose(self.w)) + self.visible_bias\n"
      ],
      "execution_count": 19,
      "outputs": []
    },
    {
      "cell_type": "code",
      "metadata": {
        "id": "bhEkb8RAaX8J",
        "colab_type": "code",
        "colab": {}
      },
      "source": [
        "# data preprocessor\n",
        "# Here Bulk data is preprocessed to use in training\n"
      ],
      "execution_count": null,
      "outputs": []
    },
    {
      "cell_type": "code",
      "metadata": {
        "id": "8s_AaIoqUcqQ",
        "colab_type": "code",
        "colab": {
          "base_uri": "https://localhost:8080/",
          "height": 54
        },
        "outputId": "13a10188-84b6-4a56-989e-88cbdcbd6bb6"
      },
      "source": [
        "shift = 1\n",
        "merge_limit=4\n",
        "dataset = []\n",
        "\n",
        "\n",
        "#name of the file where urbm model learned weights and biases will be saved.\n",
        "save_weights_path = \"/content/gdrive/My Drive/SpeakerVerification/SavedModels/urbm_model\" \n",
        "\n",
        "\n",
        "lr  = 0.001\n",
        "input_dim =80\n",
        "hidden_dim = 400\n",
        "batch_size = 100\n",
        "nb_epoch = 100\n",
        "\n",
        "# this is the directory where all test wav data\n",
        "# each file corresponds to each speaker\n",
        "path_dir = \"/content/gdrive/My Drive/SpeakerVerification/Data/\" \n",
        "file_list=os.listdir(path_dir)\n",
        "\n",
        "print(file_list)\n",
        "\n"
      ],
      "execution_count": 20,
      "outputs": [
        {
          "output_type": "stream",
          "text": [
            "['file_example_WAV_2MG.wav', 'taunt.wav', 'StarWars60.wav', 'StarWars3.wav', 'ortalking.wav', '3peopletalking.wav', 'OSR_us_000_0010_8k.wav', 'OSR_us_000_0011_8k.wav', 'OSR_us_000_0012_8k.wav', 'OSR_us_000_0013_8k.wav', 'OSR_us_000_0030_8k.wav', 'OSR_us_000_0031_8k.wav', 'OSR_us_000_0032_8k.wav', 'OSR_us_000_0034_8k.wav', 'OSR_us_000_0035_8k.wav', 'OSR_us_000_0036_8k.wav', '2.wav', '3.wav']\n"
          ],
          "name": "stdout"
        }
      ]
    },
    {
      "cell_type": "code",
      "metadata": {
        "id": "g6_ujrlqDX-1",
        "colab_type": "code",
        "colab": {
          "base_uri": "https://localhost:8080/",
          "height": 377
        },
        "outputId": "d4843a9a-7b1c-4886-f473-99674946a6da"
      },
      "source": [
        "# vector \n",
        "import numpy as np\n",
        "\n",
        "supervector_list=[]\n",
        "\n",
        "for f in file_list:\n",
        "    if(f.endswith(\".wav\")==False):\n",
        "        continue\n",
        "\n",
        "    # we skip one file here.\n",
        "    if(f.endswith(\"3.wav\")==True):\n",
        "        continue;\n",
        "\n",
        "    gbrbm = GBRBM(n_visible=input_dim, n_hidden=hidden_dim, learning_rate=lr, momentum=0.95, use_tqdm=True)\n",
        "    gbrbm.load_weights(save_weights_path+f,'weights'+f)\n",
        "    w,b_bias,h_bias = gbrbm.get_weights()\n",
        "\n",
        "    w=np.reshape(w,80*400)\n",
        "    supervector=np.concatenate((w,b_bias,h_bias),axis=None)\n",
        "    # print(supervector.size)\n",
        "    # supervector=preprocessing.scale(supervector) # mean normalization of supervectors\n",
        "    # print(supervector)\n",
        "    supervector_list.append(supervector)\n",
        "\n",
        "\n",
        "# fit current size of the ram\n",
        "# trunk_sv_list=[]\n",
        "# for item in supervector_list:\n",
        "#     new_item=item[:15000]\n",
        "#     trunk_sv_list.append(new_item)\n",
        "# trunk_vectors= np.array(trunk_sv_list)\n",
        "# print(trunk_vectors.shape)\n",
        "#\n",
        "\n",
        "supervector_data=np.array(supervector_list)\n",
        "#normal\n",
        "supervector_data=preprocessing.scale(supervector_data, axis=0)\n",
        "\n",
        "# gbrbm = GBRBM(n_visible=input_dim, n_hidden=hidden_dim, learning_rate=lr, momentum=0.95, use_tqdm=True)\n",
        "# gbrbm.load_weights(save_weights_path,'weights')\n",
        "# w,b_bias,h_bias = gbrbm.get_weights()\n",
        "\n",
        "# w=np.reshape(w,80*400)\n",
        "# urbm_supervector=np.concatenate((w,b_bias,h_bias),axis=None)\n",
        "# print(supervector.size)\n",
        "# u_vector=preprocessing.scale(urbm_supervector) # mean normalization of supervectors\n"
      ],
      "execution_count": 41,
      "outputs": [
        {
          "output_type": "stream",
          "text": [
            "INFO:tensorflow:Restoring parameters from /content/gdrive/My Drive/SpeakerVerification/SavedModels/urbm_modelfile_example_WAV_2MG.wav\n",
            "INFO:tensorflow:Restoring parameters from /content/gdrive/My Drive/SpeakerVerification/SavedModels/urbm_modeltaunt.wav\n",
            "INFO:tensorflow:Restoring parameters from /content/gdrive/My Drive/SpeakerVerification/SavedModels/urbm_modelStarWars60.wav\n",
            "INFO:tensorflow:Restoring parameters from /content/gdrive/My Drive/SpeakerVerification/SavedModels/urbm_modelortalking.wav\n",
            "INFO:tensorflow:Restoring parameters from /content/gdrive/My Drive/SpeakerVerification/SavedModels/urbm_model3peopletalking.wav\n",
            "INFO:tensorflow:Restoring parameters from /content/gdrive/My Drive/SpeakerVerification/SavedModels/urbm_modelOSR_us_000_0010_8k.wav\n",
            "INFO:tensorflow:Restoring parameters from /content/gdrive/My Drive/SpeakerVerification/SavedModels/urbm_modelOSR_us_000_0011_8k.wav\n",
            "INFO:tensorflow:Restoring parameters from /content/gdrive/My Drive/SpeakerVerification/SavedModels/urbm_modelOSR_us_000_0012_8k.wav\n",
            "INFO:tensorflow:Restoring parameters from /content/gdrive/My Drive/SpeakerVerification/SavedModels/urbm_modelOSR_us_000_0013_8k.wav\n",
            "INFO:tensorflow:Restoring parameters from /content/gdrive/My Drive/SpeakerVerification/SavedModels/urbm_modelOSR_us_000_0030_8k.wav\n",
            "INFO:tensorflow:Restoring parameters from /content/gdrive/My Drive/SpeakerVerification/SavedModels/urbm_modelOSR_us_000_0031_8k.wav\n",
            "INFO:tensorflow:Restoring parameters from /content/gdrive/My Drive/SpeakerVerification/SavedModels/urbm_modelOSR_us_000_0032_8k.wav\n",
            "INFO:tensorflow:Restoring parameters from /content/gdrive/My Drive/SpeakerVerification/SavedModels/urbm_modelOSR_us_000_0034_8k.wav\n",
            "INFO:tensorflow:Restoring parameters from /content/gdrive/My Drive/SpeakerVerification/SavedModels/urbm_modelOSR_us_000_0035_8k.wav\n",
            "INFO:tensorflow:Restoring parameters from /content/gdrive/My Drive/SpeakerVerification/SavedModels/urbm_modelOSR_us_000_0036_8k.wav\n",
            "INFO:tensorflow:Restoring parameters from /content/gdrive/My Drive/SpeakerVerification/SavedModels/urbm_model2.wav\n"
          ],
          "name": "stdout"
        },
        {
          "output_type": "stream",
          "text": [
            "/usr/local/lib/python3.6/dist-packages/sklearn/preprocessing/_data.py:173: UserWarning: Numerical issues were encountered when centering the data and might not be solved. Dataset may contain too large values. You may need to prescale your features.\n",
            "  warnings.warn(\"Numerical issues were encountered \"\n",
            "/usr/local/lib/python3.6/dist-packages/sklearn/preprocessing/_data.py:190: UserWarning: Numerical issues were encountered when scaling the data and might not be solved. The standard deviation of the data is probably very close to 0. \n",
            "  warnings.warn(\"Numerical issues were encountered \"\n"
          ],
          "name": "stderr"
        }
      ]
    },
    {
      "cell_type": "code",
      "metadata": {
        "id": "yaqfxI_wwIoP",
        "colab_type": "code",
        "colab": {}
      },
      "source": [
        "# PCA whitening and dimensionality reduction  ...\n",
        "import numpy as np\n",
        "from sklearn.decomposition import PCA\n",
        "pca = PCA()\n",
        "X=supervector_data\n",
        "pca.fit(X)\n",
        "rbm_vectors= pca.transform(X)\n",
        "\n",
        "print(rbm_vectors.shape)\n",
        "print(rbm_vectors)"
      ],
      "execution_count": null,
      "outputs": []
    },
    {
      "cell_type": "code",
      "metadata": {
        "id": "6a3cybWtnD5w",
        "colab_type": "code",
        "colab": {}
      },
      "source": [
        ""
      ],
      "execution_count": null,
      "outputs": []
    },
    {
      "cell_type": "code",
      "metadata": {
        "colab_type": "code",
        "id": "E305dL2mnEQ7",
        "colab": {
          "base_uri": "https://localhost:8080/",
          "height": 34
        },
        "outputId": "c747d56c-4fc7-47d5-ef5e-aa1c40d45497"
      },
      "source": [
        "# clustering tasks starts here ...\n",
        "# clustering 2\n",
        "from sklearn.cluster import AgglomerativeClustering\n",
        "X=rbm_vectors\n",
        "clustering = AgglomerativeClustering(n_clusters=6, linkage='average').fit(X)\n",
        "\n",
        "\n",
        "print(clustering.labels_)\n",
        "\n",
        "\n"
      ],
      "execution_count": 38,
      "outputs": [
        {
          "output_type": "stream",
          "text": [
            "[3 0 5 0 4 2 2 2 2 1 1 1 1 1 1 0]\n"
          ],
          "name": "stdout"
        }
      ]
    },
    {
      "cell_type": "code",
      "metadata": {
        "id": "Ey3InPU1tnXt",
        "colab_type": "code",
        "colab": {
          "base_uri": "https://localhost:8080/",
          "height": 1000
        },
        "outputId": "8d3db178-afe3-4c08-d2ca-b8ef302f204c"
      },
      "source": [
        "from scipy.cluster.hierarchy import dendrogram, linkage\n",
        "z=linkage(X)\n",
        "dendrogram(z)"
      ],
      "execution_count": 43,
      "outputs": [
        {
          "output_type": "execute_result",
          "data": {
            "text/plain": [
              "{'color_list': ['g',\n",
              "  'g',\n",
              "  'g',\n",
              "  'g',\n",
              "  'g',\n",
              "  'g',\n",
              "  'g',\n",
              "  'g',\n",
              "  'g',\n",
              "  'g',\n",
              "  'g',\n",
              "  'g',\n",
              "  'b',\n",
              "  'b',\n",
              "  'b'],\n",
              " 'dcoord': [[0.0, 118.89448247116974, 118.89448247116974, 0.0],\n",
              "  [0.0, 119.4581130658999, 119.4581130658999, 118.89448247116974],\n",
              "  [0.0, 131.07998751557113, 131.07998751557113, 119.4581130658999],\n",
              "  [0.0, 175.89753442226538, 175.89753442226538, 0.0],\n",
              "  [0.0, 129.92079155868066, 129.92079155868066, 0.0],\n",
              "  [0.0, 130.79183261308276, 130.79183261308276, 0.0],\n",
              "  [0.0, 133.26594602565154, 133.26594602565154, 130.79183261308276],\n",
              "  [129.92079155868066,\n",
              "   133.61267804662933,\n",
              "   133.61267804662933,\n",
              "   133.26594602565154],\n",
              "  [0.0, 178.7067389040147, 178.7067389040147, 133.61267804662933],\n",
              "  [175.89753442226538, 190.883423644944, 190.883423644944, 178.7067389040147],\n",
              "  [0.0, 192.70099329698127, 192.70099329698127, 190.883423644944],\n",
              "  [131.07998751557113,\n",
              "   195.22545429779944,\n",
              "   195.22545429779944,\n",
              "   192.70099329698127],\n",
              "  [0.0, 257.5940146920763, 257.5940146920763, 195.22545429779944],\n",
              "  [0.0, 281.2333941863872, 281.2333941863872, 257.5940146920763],\n",
              "  [0.0, 281.88999147813524, 281.88999147813524, 281.2333941863872]],\n",
              " 'icoord': [[55.0, 55.0, 65.0, 65.0],\n",
              "  [45.0, 45.0, 60.0, 60.0],\n",
              "  [35.0, 35.0, 52.5, 52.5],\n",
              "  [85.0, 85.0, 95.0, 95.0],\n",
              "  [115.0, 115.0, 125.0, 125.0],\n",
              "  [145.0, 145.0, 155.0, 155.0],\n",
              "  [135.0, 135.0, 150.0, 150.0],\n",
              "  [120.0, 120.0, 142.5, 142.5],\n",
              "  [105.0, 105.0, 131.25, 131.25],\n",
              "  [90.0, 90.0, 118.125, 118.125],\n",
              "  [75.0, 75.0, 104.0625, 104.0625],\n",
              "  [43.75, 43.75, 89.53125, 89.53125],\n",
              "  [25.0, 25.0, 66.640625, 66.640625],\n",
              "  [15.0, 15.0, 45.8203125, 45.8203125],\n",
              "  [5.0, 5.0, 30.41015625, 30.41015625]],\n",
              " 'ivl': ['2',\n",
              "  '4',\n",
              "  '0',\n",
              "  '5',\n",
              "  '8',\n",
              "  '6',\n",
              "  '7',\n",
              "  '3',\n",
              "  '1',\n",
              "  '15',\n",
              "  '14',\n",
              "  '9',\n",
              "  '10',\n",
              "  '11',\n",
              "  '12',\n",
              "  '13'],\n",
              " 'leaves': [2, 4, 0, 5, 8, 6, 7, 3, 1, 15, 14, 9, 10, 11, 12, 13]}"
            ]
          },
          "metadata": {
            "tags": []
          },
          "execution_count": 43
        },
        {
          "output_type": "display_data",
          "data": {
            "image/png": "[encoded data removed]",
            "text/plain": [
              "<Figure size 432x288 with 1 Axes>"
            ]
          },
          "metadata": {
            "tags": [],
            "needs_background": "light"
          }
        }
      ]
    },
    {
      "cell_type": "code",
      "metadata": {
        "id": "ej5fSnjJvDVz",
        "colab_type": "code",
        "colab": {
          "base_uri": "https://localhost:8080/",
          "height": 1000
        },
        "outputId": "b936f060-2d32-4a0e-dd41-1117506afd6b"
      },
      "source": [
        "#Adding a new file to get new cluster..\n",
        "\n",
        "# vector \n",
        "import numpy as np\n",
        "import numpy as np\n",
        "from sklearn.decomposition import PCA\n",
        "\n",
        "\n",
        "\n",
        "f='3.wav'\n",
        "\n",
        "gbrbm = GBRBM(n_visible=input_dim, n_hidden=hidden_dim, learning_rate=lr, momentum=0.95, use_tqdm=True)\n",
        "gbrbm.load_weights(save_weights_path+f,'weights'+f)\n",
        "w,b_bias,h_bias = gbrbm.get_weights()\n",
        "\n",
        "w=np.reshape(w,80*400)\n",
        "supervector=np.concatenate((w,b_bias,h_bias),axis=None)\n",
        "# print(supervector.size)\n",
        "# supervector=preprocessing.scale(supervector) # mean normalization of supervectors\n",
        "# print(supervector)\n",
        "supervector_list.append(supervector)\n",
        "\n",
        "\n",
        "# fit current size of the ram\n",
        "# trunk_sv_list=[]\n",
        "# for item in supervector_list:\n",
        "#     new_item=item[:15000]\n",
        "#     trunk_sv_list.append(new_item)\n",
        "# trunk_vectors= np.array(trunk_sv_list)\n",
        "# print(trunk_vectors.shape)\n",
        "#\n",
        "\n",
        "supervector_data=np.array(supervector_list)\n",
        "#normal\n",
        "supervector_data=preprocessing.scale(supervector_data, axis=0)\n",
        "\n",
        "\n",
        "pca = PCA()\n",
        "X=supervector_data\n",
        "pca.fit(X)\n",
        "rbm_vectors= pca.transform(X)\n",
        "\n",
        "print(rbm_vectors.shape)\n",
        "print(rbm_vectors)\n",
        "\n",
        "z=linkage(X)\n",
        "dendrogram(z)"
      ],
      "execution_count": 44,
      "outputs": [
        {
          "output_type": "stream",
          "text": [
            "INFO:tensorflow:Restoring parameters from /content/gdrive/My Drive/SpeakerVerification/SavedModels/urbm_model3.wav\n",
            "(17, 17)\n",
            "[[-7.71388006e+00  1.33765976e+02  1.27403049e+01  1.86171875e+02\n",
            "  -6.62423630e+01 -2.42275887e+01 -1.07663670e+01  6.79015398e+00\n",
            "  -2.85293162e-02  9.05217767e-01 -1.48033774e+00  1.50721061e+00\n",
            "   5.76488912e-01  1.03080702e+00 -7.52959251e-01 -9.78982210e-01\n",
            "  -1.60778873e-05]\n",
            " [-8.43568230e+00  4.06139526e+01  8.68574524e+00  1.48929996e+01\n",
            "   2.16620045e+01  8.05141830e+01  4.96884003e+01 -6.17787895e+01\n",
            "   6.34672117e+00  1.92739582e+01 -1.76755161e+01  6.25808668e+00\n",
            "  -1.62713737e+01  2.36159039e+00  3.68149948e+00 -2.02494812e+01\n",
            "  -4.42280434e-05]\n",
            " [-1.46350060e+01  1.02505852e+02  2.03336136e+02 -1.11439964e+02\n",
            "  -4.70462685e+01 -1.18205566e+01 -5.27471542e+00  4.12530088e+00\n",
            "  -2.27486324e+00  8.75460923e-01  1.34511483e+00  1.43739605e+00\n",
            "   2.23152590e+00  9.55693603e-01 -9.46223736e-01 -3.01221460e-01\n",
            "  -7.22706318e-07]\n",
            " [ 1.31302612e+02  5.86936831e-01  4.43946505e+00  1.26571407e+01\n",
            "   1.49442139e+01  7.44908295e+01  4.22320480e+01  6.29402008e+01\n",
            "  -2.77129307e+01 -2.26436901e+01  1.76045742e+01 -6.99897194e+00\n",
            "   8.95902634e+00  5.78343123e-02 -2.33759403e+00 -1.92019546e+00\n",
            "   4.82378528e-06]\n",
            " [ 3.41033173e+02 -5.52381058e+01 -2.99804554e+01 -2.28428993e+01\n",
            "  -6.35266151e+01 -2.72266827e+01 -1.23552608e+01 -2.21810665e+01\n",
            "   1.28603115e+01  6.88480377e+00 -4.97197008e+00  1.86273599e+00\n",
            "  -3.57845497e+00 -1.75734341e-01  4.50068712e-03 -3.82062376e-01\n",
            "  -1.52871944e-05]\n",
            " [-4.96998978e+01  4.54237976e+01 -7.66487198e+01 -4.85318108e+01\n",
            "  -4.58851957e+00  3.27796125e+00  1.09190619e+00  4.50415573e+01\n",
            "   6.21909561e+01  1.03566675e+01 -3.06788712e+01 -1.88047638e+01\n",
            "  -2.15776119e+01  1.67331715e+01  5.20483685e+00  5.96003048e-02\n",
            "  -4.73032705e-05]\n",
            " [-4.54648895e+01  4.93373795e+01 -9.05752411e+01 -4.98390541e+01\n",
            "  -2.80631042e+00 -7.82386017e+00 -1.03232784e+01  5.94612932e+00\n",
            "  -2.74909282e+00  2.84757042e+00 -3.58008265e+00  3.01698627e+01\n",
            "   1.67754326e+01 -4.24400635e+01 -4.19682579e+01 -2.01149845e+01\n",
            "  -3.42810526e-05]\n",
            " [-3.81570892e+01  6.44182053e+01 -9.11007919e+01 -4.97072487e+01\n",
            "  -9.44751835e+00 -9.52800560e+00 -4.41561270e+00 -8.10151958e+00\n",
            "  -2.24657288e+01 -4.40401888e+00  2.10240059e+01  3.27919626e+00\n",
            "  -6.38578558e+00 -2.56805229e+01  5.69675140e+01  1.24830084e+01\n",
            "  -4.36622649e-05]\n",
            " [-3.86369438e+01  5.42870331e+01 -9.04973450e+01 -4.70508347e+01\n",
            "  -2.08307505e+00 -1.91948261e+01  1.13797235e+00 -2.29281960e+01\n",
            "  -3.66325455e+01 -8.85327721e+00  1.13752804e+01 -1.52088108e+01\n",
            "   1.06257753e+01  5.44132767e+01 -2.18120136e+01  9.00829220e+00\n",
            "   2.10879371e-05]\n",
            " [-6.07526894e+01 -9.58697891e+01  1.17444601e+01  1.13967962e+01\n",
            "  -1.83939838e+01  1.23760300e+01 -1.79017658e+01  2.02810555e+01\n",
            "  -1.31482821e+01  3.70821877e+01 -1.98863888e+01  5.49075813e+01\n",
            "   1.98935356e+01  2.50394115e+01  1.65724392e+01  5.50770044e+00\n",
            "   1.30675384e-04]\n",
            " [-6.14128532e+01 -7.96189499e+01  1.41498346e+01  1.31967001e+01\n",
            "  -1.57458105e+01  1.01708708e+01 -2.66171436e+01  6.70453501e+00\n",
            "  -1.64609337e+01  5.95583153e+01  3.39948654e+01 -3.60311050e+01\n",
            "  -2.54345970e+01 -1.26896725e+01 -1.43844118e+01  1.36882019e+00\n",
            "   2.79592117e-04]\n",
            " [-6.63276443e+01 -9.08783875e+01  1.74571114e+01  9.00373268e+00\n",
            "  -2.10207176e+01 -5.50416803e+00 -2.92599831e+01 -5.34832597e-01\n",
            "  -3.31970634e+01 -5.09522552e+01 -3.91985207e+01 -4.44063520e+00\n",
            "  -3.93578568e+01 -5.09683084e+00 -1.81978822e+00 -1.24081783e+01\n",
            "   3.77777033e-05]\n",
            " [-6.51792221e+01 -5.97663193e+01  1.30221205e+01  1.36307678e+01\n",
            "  -1.32521715e+01  1.96864185e+01 -1.23505363e+01 -1.54052229e+01\n",
            "   4.77736816e+01 -3.95584068e+01  5.57858772e+01  2.55213814e+01\n",
            "  -9.51817989e+00  7.71533728e+00 -7.17594671e+00  1.04227839e+01\n",
            "   3.61772254e-05]\n",
            " [-6.33234863e+01 -6.67340393e+01  1.03736696e+01  1.16220484e+01\n",
            "  -2.03260269e+01  2.03248386e+01 -2.03914890e+01 -1.72796230e+01\n",
            "   1.70526390e+01 -1.40046854e+01 -1.45399075e+01 -4.21183357e+01\n",
            "   5.92893524e+01 -1.02178984e+01  1.04151335e+01 -5.14775944e+00\n",
            "   7.99114350e-05]\n",
            " [-5.50330849e+01 -7.60259094e+01  2.02509594e+01  1.43147364e+01\n",
            "   7.49186850e+00 -7.90853043e+01  1.04063828e+02  2.08419561e+00\n",
            "   2.93324137e+00  1.28505349e+00  4.00607049e-01 -2.27494001e+00\n",
            "   2.36476040e+00 -7.35583782e+00 -5.87528348e-01  2.66302943e+00\n",
            "  -1.44978985e-05]\n",
            " [ 4.28227844e+01  1.98924065e+01  2.87528229e+01  2.12219925e+01\n",
            "   9.87596588e+01  4.36182213e+00 -1.48985872e+01 -1.01645861e+01\n",
            "   1.11891091e+00  1.31493121e-01 -2.27461338e+01  7.31208682e-01\n",
            "  -1.03280663e+00 -1.49408522e+01 -1.33297768e+01  5.85794678e+01\n",
            "  -6.56787306e-05]\n",
            " [ 5.96137619e+01  1.33000145e+01  3.38499298e+01  2.13031101e+01\n",
            "   1.41621643e+02 -4.07919540e+01 -3.36594009e+01  4.46073627e+00\n",
            "   4.39351988e+00  1.21559858e+00  1.32274237e+01  2.02917814e-01\n",
            "   2.44079256e+00  1.02902889e+01  1.22685823e+01 -3.85898514e+01\n",
            "  -3.06299888e-04]]\n"
          ],
          "name": "stdout"
        },
        {
          "output_type": "stream",
          "text": [
            "/usr/local/lib/python3.6/dist-packages/sklearn/preprocessing/_data.py:173: UserWarning: Numerical issues were encountered when centering the data and might not be solved. Dataset may contain too large values. You may need to prescale your features.\n",
            "  warnings.warn(\"Numerical issues were encountered \"\n",
            "/usr/local/lib/python3.6/dist-packages/sklearn/preprocessing/_data.py:190: UserWarning: Numerical issues were encountered when scaling the data and might not be solved. The standard deviation of the data is probably very close to 0. \n",
            "  warnings.warn(\"Numerical issues were encountered \"\n"
          ],
          "name": "stderr"
        },
        {
          "output_type": "execute_result",
          "data": {
            "text/plain": [
              "{'color_list': ['g',\n",
              "  'g',\n",
              "  'g',\n",
              "  'g',\n",
              "  'g',\n",
              "  'g',\n",
              "  'g',\n",
              "  'g',\n",
              "  'g',\n",
              "  'g',\n",
              "  'g',\n",
              "  'g',\n",
              "  'g',\n",
              "  'b',\n",
              "  'b',\n",
              "  'b'],\n",
              " 'dcoord': [[0.0, 118.31487283568423, 118.31487283568423, 0.0],\n",
              "  [0.0, 118.68756539291704, 118.68756539291704, 118.31487283568423],\n",
              "  [0.0, 130.48097040819104, 130.48097040819104, 118.68756539291704],\n",
              "  [0.0, 129.78972341111074, 129.78972341111074, 0.0],\n",
              "  [0.0, 171.9397971137509, 171.9397971137509, 129.78972341111074],\n",
              "  [0.0, 129.18387274640213, 129.18387274640213, 0.0],\n",
              "  [0.0, 130.0278377586506, 130.0278377586506, 0.0],\n",
              "  [0.0, 132.48912265585147, 132.48912265585147, 130.0278377586506],\n",
              "  [129.18387274640213,\n",
              "   133.01717620771467,\n",
              "   133.01717620771467,\n",
              "   132.48912265585147],\n",
              "  [0.0, 177.848472195628, 177.848472195628, 133.01717620771467],\n",
              "  [171.9397971137509,\n",
              "   190.55916576390618,\n",
              "   190.55916576390618,\n",
              "   177.848472195628],\n",
              "  [0.0, 191.20921184360174, 191.20921184360174, 190.55916576390618],\n",
              "  [130.48097040819104,\n",
              "   195.00649444091556,\n",
              "   195.00649444091556,\n",
              "   191.20921184360174],\n",
              "  [0.0, 257.7300880209063, 257.7300880209063, 195.00649444091556],\n",
              "  [0.0, 282.0448552974283, 282.0448552974283, 257.7300880209063],\n",
              "  [0.0, 282.64861213241807, 282.64861213241807, 282.0448552974283]],\n",
              " 'icoord': [[55.0, 55.0, 65.0, 65.0],\n",
              "  [45.0, 45.0, 60.0, 60.0],\n",
              "  [35.0, 35.0, 52.5, 52.5],\n",
              "  [95.0, 95.0, 105.0, 105.0],\n",
              "  [85.0, 85.0, 100.0, 100.0],\n",
              "  [125.0, 125.0, 135.0, 135.0],\n",
              "  [155.0, 155.0, 165.0, 165.0],\n",
              "  [145.0, 145.0, 160.0, 160.0],\n",
              "  [130.0, 130.0, 152.5, 152.5],\n",
              "  [115.0, 115.0, 141.25, 141.25],\n",
              "  [92.5, 92.5, 128.125, 128.125],\n",
              "  [75.0, 75.0, 110.3125, 110.3125],\n",
              "  [43.75, 43.75, 92.65625, 92.65625],\n",
              "  [25.0, 25.0, 68.203125, 68.203125],\n",
              "  [15.0, 15.0, 46.6015625, 46.6015625],\n",
              "  [5.0, 5.0, 30.80078125, 30.80078125]],\n",
              " 'ivl': ['2',\n",
              "  '4',\n",
              "  '0',\n",
              "  '5',\n",
              "  '8',\n",
              "  '6',\n",
              "  '7',\n",
              "  '3',\n",
              "  '1',\n",
              "  '15',\n",
              "  '16',\n",
              "  '14',\n",
              "  '9',\n",
              "  '10',\n",
              "  '11',\n",
              "  '12',\n",
              "  '13'],\n",
              " 'leaves': [2, 4, 0, 5, 8, 6, 7, 3, 1, 15, 16, 14, 9, 10, 11, 12, 13]}"
            ]
          },
          "metadata": {
            "tags": []
          },
          "execution_count": 44
        },
        {
          "output_type": "display_data",
          "data": {
            "image/png": "[encoded data removed]",
            "text/plain": [
              "<Figure size 432x288 with 1 Axes>"
            ]
          },
          "metadata": {
            "tags": [],
            "needs_background": "light"
          }
        }
      ]
    }
  ]
}